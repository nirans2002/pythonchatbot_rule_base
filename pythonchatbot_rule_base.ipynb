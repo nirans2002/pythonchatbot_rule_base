{
  "nbformat": 4,
  "nbformat_minor": 0,
  "metadata": {
    "colab": {
      "name": "pythonchatbot-rule base.ipynb",
      "private_outputs": true,
      "provenance": [],
      "authorship_tag": "ABX9TyP+gIxR3NAi6G62cQKvWLEG",
      "include_colab_link": true
    },
    "kernelspec": {
      "name": "python3",
      "display_name": "Python 3"
    },
    "language_info": {
      "name": "python"
    }
  },
  "cells": [
    {
      "cell_type": "markdown",
      "metadata": {
        "id": "view-in-github",
        "colab_type": "text"
      },
      "source": [
        "<a href=\"https://colab.research.google.com/github/nirans2002/pythonchatbot_rule_base/blob/main/pythonchatbot_rule_base.ipynb\" target=\"_parent\"><img src=\"https://colab.research.google.com/assets/colab-badge.svg\" alt=\"Open In Colab\"/></a>"
      ]
    },
    {
      "cell_type": "code",
      "metadata": {
        "id": "aWLwQ96_hNet"
      },
      "source": [
        "#rule based \n",
        "%pip install chatterbot\n",
        "%pip install chatterbot_corpus"
      ],
      "execution_count": null,
      "outputs": []
    },
    {
      "cell_type": "code",
      "metadata": {
        "id": "x7f71YL-zExA"
      },
      "source": [
        "from chatterbot import ChatBot\n",
        "from  chatterbot.trainers import ListTrainer\n",
        "print(\"modules installed...\")"
      ],
      "execution_count": null,
      "outputs": []
    },
    {
      "cell_type": "code",
      "metadata": {
        "id": "u__cW3sczsom"
      },
      "source": [
        "my_bot = ChatBot(name='MyBot', read_only=True,\n",
        "                 logic_adapters=['chatterbot.logic.MathematicalEvaluation',\n",
        "                                 'chatterbot.logic.BestMatch'])"
      ],
      "execution_count": null,
      "outputs": []
    },
    {
      "cell_type": "code",
      "metadata": {
        "id": "j0Jli7ba0NhL"
      },
      "source": [
        "talk1 = ['hi there!',\n",
        "              'hi!',\n",
        "              'how do you do?',\n",
        "              'Cool as always'\n",
        "              'how are you?',\n",
        "              'i\\'m cool.',\n",
        "              'fine, you?',\n",
        "              'always cool.',\n",
        "              'i\\'m ok',\n",
        "              'glad to hear that.',\n",
        "              'i\\'m fine',\n",
        "              'glad to hear that.',\n",
        "              'i feel awesome',\n",
        "              'excellent, glad to hear that.',\n",
        "              'good',\n",
        "              'Thats awesome to hear']"
      ],
      "execution_count": null,
      "outputs": []
    },
    {
      "cell_type": "code",
      "metadata": {
        "id": "YCOrrQAR3Fo_"
      },
      "source": [
        "talk2 = ['pythogoreal theorem','asq + b sq = c sq']"
      ],
      "execution_count": null,
      "outputs": []
    },
    {
      "cell_type": "code",
      "metadata": {
        "id": "N6eDqWbA3XF7"
      },
      "source": [
        "list_trainer = ListTrainer(my_bot)\n",
        "for item in (talk1, talk2):\n",
        "    list_trainer.train(item)\n",
        "print(\"Training of chatbot is completed\")"
      ],
      "execution_count": null,
      "outputs": []
    },
    {
      "cell_type": "code",
      "metadata": {
        "id": "NKxnoIF-4xmg"
      },
      "source": [
        "print(my_bot.get_response(\"how are you\"))"
      ],
      "execution_count": null,
      "outputs": []
    },
    {
      "cell_type": "code",
      "metadata": {
        "id": "1CSGBH1843v4"
      },
      "source": [
        "name=input(\"Enter Your Name: \")\n",
        "print(\"Hey welcome \" + name + \"! Let's chat!!!\")\n",
        "while True:\n",
        "    request=input(name+':')\n",
        "    if request=='Bye' or request =='bye':\n",
        "        print('Bot: Ok Bye. See you then!!')\n",
        "        break\n",
        "    else:\n",
        "        response=my_bot.get_response(request)\n",
        "        print('Bot:',response)"
      ],
      "execution_count": null,
      "outputs": []
    },
    {
      "cell_type": "code",
      "metadata": {
        "id": "66bDabFk6-SG"
      },
      "source": [
        "from chatterbot.trainers import ChatterBotCorpusTrainer\n",
        "corpus_trainer = ChatterBotCorpusTrainer(my_bot)\n",
        "corpus_trainer.train('chatterbot.corpus.english')"
      ],
      "execution_count": null,
      "outputs": []
    },
    {
      "cell_type": "code",
      "metadata": {
        "id": "W88WQNVP8fS-"
      },
      "source": [
        "name=input(\"Enter Your Name: \")\n",
        "print(\"Welcome to the Bot Service! Let me know how can I help you?\")\n",
        "while True:\n",
        "    request=input(name+':')\n",
        "    if request=='Bye' or request =='bye':\n",
        "        print('Bot: Bye')\n",
        "        break\n",
        "    else:\n",
        "        response=my_bot.get_response(request)\n",
        "        print('Bot:',response)"
      ],
      "execution_count": null,
      "outputs": []
    },
    {
      "cell_type": "code",
      "metadata": {
        "id": "60wJxahB9Ssf"
      },
      "source": [
        ""
      ],
      "execution_count": null,
      "outputs": []
    }
  ]
}